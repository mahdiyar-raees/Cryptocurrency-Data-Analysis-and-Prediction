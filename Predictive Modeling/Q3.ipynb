{
 "cells": [
  {
   "cell_type": "code",
   "execution_count": 1,
   "id": "139a097c",
   "metadata": {},
   "outputs": [],
   "source": [
    "# import librries\n",
    "import numpy as np\n",
    "import pandas as pd\n",
    "import matplotlib.pyplot as plt\n",
    "import sklearn"
   ]
  },
  {
   "cell_type": "code",
   "execution_count": 2,
   "id": "542482d5",
   "metadata": {},
   "outputs": [
    {
     "name": "stdout",
     "output_type": "stream",
     "text": [
      "[*********************100%%**********************]  1 of 1 completed\n"
     ]
    }
   ],
   "source": [
    "# import coin datas\n",
    "import yfinance as yf\n",
    "xmr = yf.Ticker(\"XMR-USD\")\n",
    "df_xmr = yf.download(tickers = \"XMR-USD\",\n",
    "                     start = \"2022-09-07\",\n",
    "                     end = \"2023-09-09\" , \n",
    "                     interval = \"1d\")"
   ]
  },
  {
   "cell_type": "code",
   "execution_count": 3,
   "id": "b8480bb2",
   "metadata": {},
   "outputs": [
    {
     "data": {
      "text/html": [
       "<div>\n",
       "<style scoped>\n",
       "    .dataframe tbody tr th:only-of-type {\n",
       "        vertical-align: middle;\n",
       "    }\n",
       "\n",
       "    .dataframe tbody tr th {\n",
       "        vertical-align: top;\n",
       "    }\n",
       "\n",
       "    .dataframe thead th {\n",
       "        text-align: right;\n",
       "    }\n",
       "</style>\n",
       "<table border=\"1\" class=\"dataframe\">\n",
       "  <thead>\n",
       "    <tr style=\"text-align: right;\">\n",
       "      <th></th>\n",
       "      <th>Open</th>\n",
       "      <th>High</th>\n",
       "      <th>Low</th>\n",
       "      <th>Close</th>\n",
       "      <th>Adj Close</th>\n",
       "      <th>Volume</th>\n",
       "    </tr>\n",
       "    <tr>\n",
       "      <th>Date</th>\n",
       "      <th></th>\n",
       "      <th></th>\n",
       "      <th></th>\n",
       "      <th></th>\n",
       "      <th></th>\n",
       "      <th></th>\n",
       "    </tr>\n",
       "  </thead>\n",
       "  <tbody>\n",
       "    <tr>\n",
       "      <th>2023-09-04</th>\n",
       "      <td>140.842804</td>\n",
       "      <td>143.770203</td>\n",
       "      <td>140.776291</td>\n",
       "      <td>141.170868</td>\n",
       "      <td>141.170868</td>\n",
       "      <td>63835398</td>\n",
       "    </tr>\n",
       "    <tr>\n",
       "      <th>2023-09-05</th>\n",
       "      <td>141.176682</td>\n",
       "      <td>141.299179</td>\n",
       "      <td>137.673279</td>\n",
       "      <td>137.781372</td>\n",
       "      <td>137.781372</td>\n",
       "      <td>54468002</td>\n",
       "    </tr>\n",
       "    <tr>\n",
       "      <th>2023-09-06</th>\n",
       "      <td>137.780243</td>\n",
       "      <td>142.644989</td>\n",
       "      <td>137.635544</td>\n",
       "      <td>142.113235</td>\n",
       "      <td>142.113235</td>\n",
       "      <td>67734044</td>\n",
       "    </tr>\n",
       "    <tr>\n",
       "      <th>2023-09-07</th>\n",
       "      <td>142.107117</td>\n",
       "      <td>143.275955</td>\n",
       "      <td>141.168930</td>\n",
       "      <td>143.250748</td>\n",
       "      <td>143.250748</td>\n",
       "      <td>62422431</td>\n",
       "    </tr>\n",
       "    <tr>\n",
       "      <th>2023-09-08</th>\n",
       "      <td>143.257370</td>\n",
       "      <td>144.124344</td>\n",
       "      <td>140.928955</td>\n",
       "      <td>143.886154</td>\n",
       "      <td>143.886154</td>\n",
       "      <td>46927009</td>\n",
       "    </tr>\n",
       "  </tbody>\n",
       "</table>\n",
       "</div>"
      ],
      "text/plain": [
       "                  Open        High         Low       Close   Adj Close  \\\n",
       "Date                                                                     \n",
       "2023-09-04  140.842804  143.770203  140.776291  141.170868  141.170868   \n",
       "2023-09-05  141.176682  141.299179  137.673279  137.781372  137.781372   \n",
       "2023-09-06  137.780243  142.644989  137.635544  142.113235  142.113235   \n",
       "2023-09-07  142.107117  143.275955  141.168930  143.250748  143.250748   \n",
       "2023-09-08  143.257370  144.124344  140.928955  143.886154  143.886154   \n",
       "\n",
       "              Volume  \n",
       "Date                  \n",
       "2023-09-04  63835398  \n",
       "2023-09-05  54468002  \n",
       "2023-09-06  67734044  \n",
       "2023-09-07  62422431  \n",
       "2023-09-08  46927009  "
      ]
     },
     "execution_count": 3,
     "metadata": {},
     "output_type": "execute_result"
    }
   ],
   "source": [
    "df_xmr.tail()"
   ]
  },
  {
   "cell_type": "code",
   "execution_count": 4,
   "id": "908b6e8c",
   "metadata": {},
   "outputs": [],
   "source": [
    "from sklearn.neighbors import KNeighborsClassifier\n",
    "from sklearn.metrics import f1_score , r2_score , recall_score , precision_score"
   ]
  },
  {
   "cell_type": "code",
   "execution_count": 7,
   "id": "d0b31563",
   "metadata": {},
   "outputs": [
    {
     "name": "stdout",
     "output_type": "stream",
     "text": [
      "n_days: 1      n_neighbors: 3 :\n",
      "0.7813267813267815\n",
      "0.7871287128712872\n",
      "1.0\n",
      "n_days: 2      n_neighbors: 3 :\n",
      "0.8179669030732861\n",
      "0.8606965174129353\n",
      "1.0\n",
      "n_days: 3      n_neighbors: 3 :\n",
      "0.7549019607843137\n",
      "0.77\n",
      "1.0\n",
      "n_days: 4      n_neighbors: 3 :\n",
      "0.8066825775656324\n",
      "0.845\n",
      "1.0\n",
      "n_days: 5      n_neighbors: 3 :\n",
      "0.775\n",
      "0.7788944723618091\n",
      "1.0\n",
      "n_days: 6      n_neighbors: 3 :\n",
      "0.7405541561712846\n",
      "0.7525252525252525\n",
      "1.0\n",
      "n_days: 7      n_neighbors: 3 :\n",
      "0.7692307692307692\n",
      "0.7828282828282829\n",
      "1.0\n",
      "n_days: 8      n_neighbors: 3 :\n",
      "0.7761194029850746\n",
      "0.7969543147208121\n",
      "1.0\n",
      "n_days: 9      n_neighbors: 3 :\n",
      "0.7673267326732673\n",
      "0.7918781725888325\n",
      "1.0\n",
      "n_days: 10      n_neighbors: 3 :\n",
      "0.7642679900744416\n",
      "0.8061224489795918\n",
      "1.0\n",
      "n_days: 11      n_neighbors: 3 :\n",
      "0.7794117647058825\n",
      "0.8112244897959183\n",
      "1.0\n",
      "n_days: 12      n_neighbors: 3 :\n",
      "0.7804878048780487\n",
      "0.8163265306122449\n",
      "1.0\n",
      "n_days: 13      n_neighbors: 3 :\n",
      "0.7665847665847666\n",
      "0.8112244897959183\n",
      "1.0\n",
      "n_days: 14      n_neighbors: 3 :\n",
      "0.7531172069825437\n",
      "0.7743589743589744\n",
      "1.0\n"
     ]
    }
   ],
   "source": [
    "# find best number of neighbors and number of days for accuracy\n",
    "n_days = 15\n",
    "n_neigh = 8\n",
    "for h in range(1,n_days) :\n",
    "    f_sc = 0 \n",
    "    r_sc = 0\n",
    "    p_sc = 0\n",
    "    nn = 0\n",
    "    for t in range(2,n_neigh) :\n",
    "        kll = []\n",
    "        y_change = []\n",
    "        for i in range(h,len(df_xmr)) : \n",
    "            g =[ df_xmr.iloc[j][\"Close\"] for j in range(i-h,i) ]\n",
    "            kll.append(g)\n",
    "        for i in range(1,len(df_xmr)) : \n",
    "            y_change.append(df_xmr.iloc[i][\"Close\"] > df_xmr.iloc[i-1][\"Close\"])\n",
    "        knn_10 = KNeighborsClassifier(n_neighbors=t)\n",
    "        knn_10.fit(kll,y_change[h-1:])\n",
    "        y_10 = knn_10.predict(kll)\n",
    "        ff_sc = f1_score(y_true=y_change[h-1:] , y_pred = y_10)\n",
    "        rr_sc = recall_score(y_true=y_change[h-1:] , y_pred = y_10)\n",
    "        pp_sc = precision_score(y_true=y_change[h-1:] , y_pred = y_10)\n",
    "        nn = t if ff_sc > f_sc else nn\n",
    "        f_sc = ff_sc if ff_sc > f_sc else f_sc\n",
    "        r_sc = rr_sc if rr_sc > r_sc else r_sc\n",
    "        p_sc = pp_sc if pp_sc > p_sc else p_sc\n",
    "    print(\"n_days:\" , h, \"     n_neighbors:\",  nn  , \":\" )\n",
    "    print(f_sc)\n",
    "    print(r_sc)\n",
    "    print(p_sc)"
   ]
  },
  {
   "cell_type": "code",
   "execution_count": 9,
   "id": "a49311cd",
   "metadata": {},
   "outputs": [],
   "source": [
    "# create model with best params\n",
    "best_n_days = 2\n",
    "bes_n_neigh = 3 \n",
    "kll_final = []\n",
    "y_change_final = []\n",
    "for i in range(best_n_days,len(df_xmr)) : \n",
    "    g =[ df_xmr.iloc[j][\"Close\"] for j in range(i-best_n_days,i) ]\n",
    "    kll_final.append(g)\n",
    "for i in range(1,len(df_xmr)) : \n",
    "    y_change_final.append(df_xmr.iloc[i][\"Close\"] > df_xmr.iloc[i-1][\"Close\"])\n",
    "knn_10 = KNeighborsClassifier(n_neighbors=bes_n_neigh)\n",
    "knn_10.fit(kll_final,y_change_final[best_n_days-1:])\n",
    "y_10_final = knn_10.predict(kll_final)"
   ]
  },
  {
   "cell_type": "code",
   "execution_count": 10,
   "id": "753baa50",
   "metadata": {},
   "outputs": [
    {
     "name": "stdout",
     "output_type": "stream",
     "text": [
      "0.8179669030732861\n"
     ]
    }
   ],
   "source": [
    "## f1 score for train data\n",
    "ff_sc = f1_score(y_true=y_change_final[best_n_days-1:] , y_pred = y_10_final)\n",
    "print(ff_sc)"
   ]
  },
  {
   "cell_type": "code",
   "execution_count": 11,
   "id": "6d565356",
   "metadata": {},
   "outputs": [
    {
     "name": "stdout",
     "output_type": "stream",
     "text": [
      "[*********************100%%**********************]  1 of 1 completed\n"
     ]
    }
   ],
   "source": [
    "# download test data\n",
    "df_xmr_test = yf.download(tickers = \"XMR-USD\",\n",
    "                     start = \"2023-09-04\",\n",
    "                     end = \"2023-10-07\" , \n",
    "                     interval = \"1d\")"
   ]
  },
  {
   "cell_type": "code",
   "execution_count": 12,
   "id": "f8fcfb83",
   "metadata": {},
   "outputs": [],
   "source": [
    "## create input and output test data\n",
    "kll_t = []\n",
    "y_t = []\n",
    "for i in range(best_n_days,len(df_xmr_test)) : \n",
    "    g = [df_xmr_test.iloc[j][\"Close\"] for j in range(i-best_n_days,i)]\n",
    "    kll_t.append(g)\n",
    "for i in range(1,len(df_xmr_test)) : \n",
    "    y_t.append(df_xmr_test.iloc[i][\"Close\"] > df_xmr_test.iloc[i-1][\"Close\"])\n",
    "\n",
    "## predict output using trained model\n",
    "y_pred_t = knn_10.predict(kll_t)"
   ]
  },
  {
   "cell_type": "code",
   "execution_count": 13,
   "id": "7ca4f2a3",
   "metadata": {},
   "outputs": [
    {
     "name": "stdout",
     "output_type": "stream",
     "text": [
      "f1 score on test data : 0.717948717948718\n",
      "recall score on test data : 0.7368421052631579\n",
      "precision score on test data : 0.7\n"
     ]
    }
   ],
   "source": [
    "## scores for test data\n",
    "ff_t = f1_score(y_true=y_t[best_n_days-1:] , y_pred = y_pred_t)\n",
    "rr_t = recall_score(y_true=y_t[best_n_days-1:] , y_pred = y_pred_t)\n",
    "pp_t = precision_score(y_true=y_t[best_n_days-1:] , y_pred = y_pred_t)\n",
    "print(\"f1 score on test data :\" , ff_t)\n",
    "print(\"recall score on test data :\" , rr_t)\n",
    "print(\"precision score on test data :\" , pp_t)"
   ]
  }
 ],
 "metadata": {
  "kernelspec": {
   "display_name": "Python 3 (ipykernel)",
   "language": "python",
   "name": "python3"
  },
  "language_info": {
   "codemirror_mode": {
    "name": "ipython",
    "version": 3
   },
   "file_extension": ".py",
   "mimetype": "text/x-python",
   "name": "python",
   "nbconvert_exporter": "python",
   "pygments_lexer": "ipython3",
   "version": "3.10.7"
  }
 },
 "nbformat": 4,
 "nbformat_minor": 5
}
